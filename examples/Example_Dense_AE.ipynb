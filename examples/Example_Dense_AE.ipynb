{
 "cells": [
  {
   "cell_type": "code",
   "execution_count": 1,
   "id": "2eed194b",
   "metadata": {},
   "outputs": [
    {
     "name": "stderr",
     "output_type": "stream",
     "text": [
      "2022-09-21 18:58:50.699423: I tensorflow/core/platform/cpu_feature_guard.cc:193] This TensorFlow binary is optimized with oneAPI Deep Neural Network Library (oneDNN) to use the following CPU instructions in performance-critical operations:  AVX2 FMA\n",
      "To enable them in other operations, rebuild TensorFlow with the appropriate compiler flags.\n",
      "2022-09-21 18:58:50.804489: E tensorflow/stream_executor/cuda/cuda_blas.cc:2981] Unable to register cuBLAS factory: Attempting to register factory for plugin cuBLAS when one has already been registered\n",
      "2022-09-21 18:58:51.202273: W tensorflow/stream_executor/platform/default/dso_loader.cc:64] Could not load dynamic library 'libnvinfer.so.7'; dlerror: libnvinfer.so.7: cannot open shared object file: No such file or directory\n",
      "2022-09-21 18:58:51.202317: W tensorflow/stream_executor/platform/default/dso_loader.cc:64] Could not load dynamic library 'libnvinfer_plugin.so.7'; dlerror: libnvinfer_plugin.so.7: cannot open shared object file: No such file or directory\n",
      "2022-09-21 18:58:51.202322: W tensorflow/compiler/tf2tensorrt/utils/py_utils.cc:38] TF-TRT Warning: Cannot dlopen some TensorRT libraries. If you would like to use Nvidia GPU with TensorRT, please make sure the missing libraries mentioned above are installed properly.\n"
     ]
    }
   ],
   "source": [
    "import numpy as np\n",
    "import h5py\n",
    "import math\n",
    "import os\n",
    "import pathlib\n",
    "import matplotlib.pyplot as plt\n",
    "import matplotlib\n",
    "\n",
    "%matplotlib inline\n",
    "import tensorflow as tf\n",
    "import tensorflow.keras as keras\n",
    "from tensorflow.keras.models import Model\n",
    "from tensorflow.keras.layers import (\n",
    "    Input,\n",
    "    Dense,\n",
    "    BatchNormalization,\n",
    "    Activation,\n",
    "    Layer,\n",
    "    ReLU,\n",
    "    LeakyReLU,\n",
    ")\n",
    "from tensorflow.keras import backend as K"
   ]
  },
  {
   "cell_type": "code",
   "execution_count": 2,
   "id": "a4bd0f16",
   "metadata": {},
   "outputs": [],
   "source": [
    "#from func import load_model, save_model"
   ]
  },
  {
   "cell_type": "markdown",
   "id": "8b6ccfb7",
   "metadata": {},
   "source": [
    "## Load dataset"
   ]
  },
  {
   "cell_type": "code",
   "execution_count": 3,
   "id": "7b608318",
   "metadata": {},
   "outputs": [],
   "source": [
    "filename = \"processed-dataset-original/BKG_dataset.h5\""
   ]
  },
  {
   "cell_type": "code",
   "execution_count": 4,
   "id": "d79760b7",
   "metadata": {},
   "outputs": [],
   "source": [
    "# make sure input data has correct input shape - background training data\n",
    "with h5py.File(filename, \"r\") as file:\n",
    "    X_train = np.array(file[\"X_train\"])\n",
    "    X_test = np.array(file[\"X_test\"])\n",
    "    X_val = np.array(file[\"X_val\"])"
   ]
  },
  {
   "cell_type": "markdown",
   "id": "f008dda6",
   "metadata": {},
   "source": [
    "## Define Dense NN architecture"
   ]
  },
  {
   "cell_type": "code",
   "execution_count": 5,
   "id": "a58ba9a1",
   "metadata": {},
   "outputs": [],
   "source": [
    "input_shape = 57\n",
    "latent_dimension = 3\n",
    "num_nodes = [16, 8]"
   ]
  },
  {
   "cell_type": "code",
   "execution_count": 6,
   "id": "061a29e8",
   "metadata": {},
   "outputs": [
    {
     "name": "stdout",
     "output_type": "stream",
     "text": [
      "Model: \"model\"\n",
      "_________________________________________________________________\n",
      " Layer (type)                Output Shape              Param #   \n",
      "=================================================================\n",
      " input_1 (InputLayer)        [(None, 57)]              0         \n",
      "                                                                 \n",
      " dense (Dense)               (None, 16)                912       \n",
      "                                                                 \n",
      " activation (Activation)     (None, 16)                0         \n",
      "                                                                 \n",
      " dense_1 (Dense)             (None, 3)                 48        \n",
      "                                                                 \n",
      " activation_1 (Activation)   (None, 3)                 0         \n",
      "                                                                 \n",
      " dense_2 (Dense)             (None, 16)                48        \n",
      "                                                                 \n",
      " activation_2 (Activation)   (None, 16)                0         \n",
      "                                                                 \n",
      " dense_3 (Dense)             (None, 57)                969       \n",
      "                                                                 \n",
      "=================================================================\n",
      "Total params: 1,977\n",
      "Trainable params: 1,977\n",
      "Non-trainable params: 0\n",
      "_________________________________________________________________\n"
     ]
    },
    {
     "name": "stderr",
     "output_type": "stream",
     "text": [
      "2022-09-21 18:58:52.105719: I tensorflow/stream_executor/cuda/cuda_gpu_executor.cc:980] successful NUMA node read from SysFS had negative value (-1), but there must be at least one NUMA node, so returning NUMA node zero\n",
      "2022-09-21 18:58:52.147805: I tensorflow/stream_executor/cuda/cuda_gpu_executor.cc:980] successful NUMA node read from SysFS had negative value (-1), but there must be at least one NUMA node, so returning NUMA node zero\n",
      "2022-09-21 18:58:52.147960: I tensorflow/stream_executor/cuda/cuda_gpu_executor.cc:980] successful NUMA node read from SysFS had negative value (-1), but there must be at least one NUMA node, so returning NUMA node zero\n",
      "2022-09-21 18:58:52.148544: I tensorflow/core/platform/cpu_feature_guard.cc:193] This TensorFlow binary is optimized with oneAPI Deep Neural Network Library (oneDNN) to use the following CPU instructions in performance-critical operations:  AVX2 FMA\n",
      "To enable them in other operations, rebuild TensorFlow with the appropriate compiler flags.\n",
      "2022-09-21 18:58:52.149281: I tensorflow/stream_executor/cuda/cuda_gpu_executor.cc:980] successful NUMA node read from SysFS had negative value (-1), but there must be at least one NUMA node, so returning NUMA node zero\n",
      "2022-09-21 18:58:52.149405: I tensorflow/stream_executor/cuda/cuda_gpu_executor.cc:980] successful NUMA node read from SysFS had negative value (-1), but there must be at least one NUMA node, so returning NUMA node zero\n",
      "2022-09-21 18:58:52.149511: I tensorflow/stream_executor/cuda/cuda_gpu_executor.cc:980] successful NUMA node read from SysFS had negative value (-1), but there must be at least one NUMA node, so returning NUMA node zero\n",
      "2022-09-21 18:58:52.632336: I tensorflow/stream_executor/cuda/cuda_gpu_executor.cc:980] successful NUMA node read from SysFS had negative value (-1), but there must be at least one NUMA node, so returning NUMA node zero\n",
      "2022-09-21 18:58:52.632671: I tensorflow/stream_executor/cuda/cuda_gpu_executor.cc:980] successful NUMA node read from SysFS had negative value (-1), but there must be at least one NUMA node, so returning NUMA node zero\n",
      "2022-09-21 18:58:52.632787: I tensorflow/stream_executor/cuda/cuda_gpu_executor.cc:980] successful NUMA node read from SysFS had negative value (-1), but there must be at least one NUMA node, so returning NUMA node zero\n",
      "2022-09-21 18:58:52.632902: I tensorflow/core/common_runtime/gpu/gpu_device.cc:1616] Created device /job:localhost/replica:0/task:0/device:GPU:0 with 2109 MB memory:  -> device: 0, name: NVIDIA GeForce RTX 3050 Ti Laptop GPU, pci bus id: 0000:01:00.0, compute capability: 8.6\n"
     ]
    }
   ],
   "source": [
    "# encoder\n",
    "inputArray = Input(shape=(input_shape))\n",
    "x = Dense(num_nodes[0], use_bias=False)(inputArray)\n",
    "x = Activation(\"relu\")(x)\n",
    "x = Dense(latent_dimension, use_bias=False)(x)\n",
    "encoder = Activation(\"relu\")(x)\n",
    "\n",
    "# decoder\n",
    "x = Dense(num_nodes[0], use_bias=False)(encoder)\n",
    "x = Activation(\"relu\")(x)\n",
    "decoder = Dense(input_shape)(x)\n",
    "\n",
    "# create autoencoder\n",
    "autoencoder = Model(inputs=inputArray, outputs=decoder)\n",
    "autoencoder.summary()"
   ]
  },
  {
   "cell_type": "code",
   "execution_count": 7,
   "id": "327587d4",
   "metadata": {},
   "outputs": [],
   "source": [
    "autoencoder.compile(optimizer=keras.optimizers.Adam(), loss=\"mse\")"
   ]
  },
  {
   "cell_type": "markdown",
   "id": "d180b383",
   "metadata": {},
   "source": [
    "## Train model"
   ]
  },
  {
   "cell_type": "code",
   "execution_count": 8,
   "id": "1ac10279",
   "metadata": {},
   "outputs": [],
   "source": [
    "EPOCHS = 10\n",
    "BATCH_SIZE = 1024"
   ]
  },
  {
   "cell_type": "code",
   "execution_count": 9,
   "id": "c3d9a1af",
   "metadata": {},
   "outputs": [
    {
     "name": "stdout",
     "output_type": "stream",
     "text": [
      "Epoch 1/10\n",
      " 43/625 [=>............................] - ETA: 0s - loss: 86.6668   "
     ]
    },
    {
     "name": "stderr",
     "output_type": "stream",
     "text": [
      "2022-09-21 18:58:54.256481: I tensorflow/stream_executor/cuda/cuda_blas.cc:1614] TensorFloat-32 will be used for the matrix multiplication. This will only be logged once.\n"
     ]
    },
    {
     "name": "stdout",
     "output_type": "stream",
     "text": [
      "625/625 [==============================] - 2s 2ms/step - loss: 25.4730 - val_loss: 3.4396\n",
      "Epoch 2/10\n",
      "625/625 [==============================] - 1s 1ms/step - loss: 2.4256 - val_loss: 2.1740\n",
      "Epoch 3/10\n",
      "625/625 [==============================] - 1s 1ms/step - loss: 2.0840 - val_loss: 2.0956\n",
      "Epoch 4/10\n",
      "625/625 [==============================] - 1s 1ms/step - loss: 2.0369 - val_loss: 2.0524\n",
      "Epoch 5/10\n",
      "625/625 [==============================] - 1s 1ms/step - loss: 2.0131 - val_loss: 2.0347\n",
      "Epoch 6/10\n",
      "625/625 [==============================] - 1s 1ms/step - loss: 1.9964 - val_loss: 2.0152\n",
      "Epoch 7/10\n",
      "625/625 [==============================] - 1s 1ms/step - loss: 1.9802 - val_loss: 2.0100\n",
      "Epoch 8/10\n",
      "625/625 [==============================] - 1s 1ms/step - loss: 1.9588 - val_loss: 1.9790\n",
      "Epoch 9/10\n",
      "625/625 [==============================] - 1s 1ms/step - loss: 1.9384 - val_loss: 1.9670\n",
      "Epoch 10/10\n",
      "625/625 [==============================] - 1s 1ms/step - loss: 1.9159 - val_loss: 1.9505\n"
     ]
    }
   ],
   "source": [
    "history = autoencoder.fit(\n",
    "    X_train,\n",
    "    X_train,\n",
    "    epochs=EPOCHS,\n",
    "    batch_size=BATCH_SIZE,\n",
    "    validation_data=(X_val, X_val),\n",
    ")"
   ]
  },
  {
   "cell_type": "code",
   "execution_count": 10,
   "id": "5bfe2ffa",
   "metadata": {},
   "outputs": [],
   "source": [
    "model_name = \"model_name\"\n",
    "model_directory = \"\"\n",
    "#save_model(model_directory + model_name, autoencoder)"
   ]
  },
  {
   "cell_type": "markdown",
   "id": "39a53a30",
   "metadata": {},
   "source": [
    "## Prediction - background"
   ]
  },
  {
   "cell_type": "code",
   "execution_count": 11,
   "id": "3ef08cfd",
   "metadata": {},
   "outputs": [
    {
     "name": "stdout",
     "output_type": "stream",
     "text": [
      "6250/6250 [==============================] - 4s 555us/step\n"
     ]
    }
   ],
   "source": [
    "bkg_prediction = autoencoder.predict(X_test)"
   ]
  },
  {
   "cell_type": "markdown",
   "id": "25666d64",
   "metadata": {},
   "source": [
    "## Prediction - signals"
   ]
  },
  {
   "cell_type": "code",
   "execution_count": 12,
   "id": "1cb44bcc",
   "metadata": {},
   "outputs": [],
   "source": [
    "# add correct signal labels\n",
    "signal_labels = [\"signal_1\", \"signal_2\", \"signal_3\", \"signal_4\"]"
   ]
  },
  {
   "cell_type": "code",
   "execution_count": 13,
   "id": "4a9f5c94",
   "metadata": {},
   "outputs": [],
   "source": [
    "# add correct path to signal files\n",
    "signals_file = [\"processed-dataset-original/Ato4l_lepFilter_13TeV_dataset.h5\", \"processed-dataset-original/hChToTauNu_13TeV_PU20_dataset.h5\", \"processed-dataset-original/hToTauTau_13TeV_PU20_dataset.h5\", \"processed-dataset-original/leptoquark_LOWMASS_lepFilter_13TeV_dataset.h5\"]"
   ]
  },
  {
   "cell_type": "code",
   "execution_count": 14,
   "id": "84c463c9",
   "metadata": {},
   "outputs": [],
   "source": [
    "# read signal data\n",
    "signal_data = []\n",
    "for i, label in enumerate(signal_labels):\n",
    "    with h5py.File(signals_file[i], \"r\") as file:\n",
    "        test_data = np.array(file[\"Data\"])\n",
    "    signal_data.append(test_data)"
   ]
  },
  {
   "cell_type": "code",
   "execution_count": 15,
   "id": "74a4e664",
   "metadata": {},
   "outputs": [
    {
     "name": "stdout",
     "output_type": "stream",
     "text": [
      "1750/1750 [==============================] - 1s 553us/step\n",
      "23759/23759 [==============================] - 13s 540us/step\n",
      "21603/21603 [==============================] - 12s 539us/step\n",
      "10642/10642 [==============================] - 6s 540us/step\n"
     ]
    }
   ],
   "source": [
    "signal_results = []\n",
    "\n",
    "for i, label in enumerate(signal_labels):\n",
    "    signal_prediction = autoencoder.predict(signal_data[i])\n",
    "    signal_results.append(\n",
    "        [label, signal_data[i], signal_prediction]\n",
    "    )  # save [label, true, prediction] for signal"
   ]
  },
  {
   "cell_type": "markdown",
   "id": "c71078e8",
   "metadata": {},
   "source": [
    "## Save results"
   ]
  },
  {
   "cell_type": "code",
   "execution_count": 16,
   "id": "5db33fa3",
   "metadata": {},
   "outputs": [],
   "source": [
    "save_file = \"save_file\""
   ]
  },
  {
   "cell_type": "code",
   "execution_count": 17,
   "id": "63cd5a03",
   "metadata": {},
   "outputs": [],
   "source": [
    "with h5py.File(save_file, \"w\") as file:\n",
    "    file.create_dataset(\"BKG_input\", data=X_test)\n",
    "    file.create_dataset(\"BKG_predicted\", data=bkg_prediction)\n",
    "    for i, sig in enumerate(signal_results):\n",
    "        file.create_dataset(\"%s_input\" % sig[0], data=sig[1])\n",
    "        file.create_dataset(\"%s_predicted\" % sig[0], data=sig[2])"
   ]
  },
  {
   "cell_type": "markdown",
   "id": "02762ad2",
   "metadata": {},
   "source": [
    "## Evaluate results\n",
    "\n",
    "1. Plot loss distribution after prediction (check loss value for signals)\n",
    "2. Plot ROC curves - how good is anomaly detection for chosen FPR threshold"
   ]
  },
  {
   "cell_type": "markdown",
   "id": "44d5421a",
   "metadata": {},
   "source": [
    "# 1."
   ]
  },
  {
   "cell_type": "code",
   "execution_count": 19,
   "id": "71bf3eb5",
   "metadata": {},
   "outputs": [],
   "source": [
    "def mse_loss(true, prediction):\n",
    "    loss = tf.reduce_mean(tf.math.square(true - prediction),axis=-1)\n",
    "    return loss"
   ]
  },
  {
   "cell_type": "code",
   "execution_count": 20,
   "id": "4e2ced7a",
   "metadata": {},
   "outputs": [],
   "source": [
    "# compute loss value (true, predicted)\n",
    "total_loss = []\n",
    "total_loss.append(mse_loss(X_test, bkg_prediction.astype(np.float32)).numpy())\n",
    "for i, signal_X in enumerate(signal_data):\n",
    "    total_loss.append(\n",
    "        mse_loss(signal_X, signal_results[i][2].astype(np.float32)).numpy()\n",
    "    )"
   ]
  },
  {
   "cell_type": "code",
   "execution_count": 21,
   "id": "d3cc4498",
   "metadata": {},
   "outputs": [
    {
     "data": {
      "image/png": "[encoded data removed]",
      "text/plain": [
       "<Figure size 720x576 with 1 Axes>"
      ]
     },
     "metadata": {
      "needs_background": "light"
     },
     "output_type": "display_data"
    }
   ],
   "source": [
    "bin_size = 100\n",
    "\n",
    "plt.figure(figsize=(10, 8))\n",
    "for i, label in enumerate(signal_labels):\n",
    "    plt.hist(\n",
    "        total_loss[i],\n",
    "        bins=bin_size,\n",
    "        label=label,\n",
    "        density=True,\n",
    "        histtype=\"step\",\n",
    "        fill=False,\n",
    "        linewidth=1.5,\n",
    "    )\n",
    "plt.yscale(\"log\")\n",
    "plt.xlabel(\"Autoencoder Loss\")\n",
    "plt.ylabel(\"Probability (a.u.)\")\n",
    "plt.title(\"MSE loss\")\n",
    "plt.legend(loc=\"best\")\n",
    "plt.show()"
   ]
  },
  {
   "cell_type": "markdown",
   "id": "f5b0a603",
   "metadata": {},
   "source": [
    "# 2."
   ]
  },
  {
   "cell_type": "code",
   "execution_count": 22,
   "id": "4a9717c4",
   "metadata": {},
   "outputs": [],
   "source": [
    "from sklearn.metrics import roc_curve, auc"
   ]
  },
  {
   "cell_type": "code",
   "execution_count": 23,
   "id": "fa113abd",
   "metadata": {},
   "outputs": [],
   "source": [
    "labels = np.concatenate([[\"Background\"], np.array(signal_labels)])"
   ]
  },
  {
   "cell_type": "code",
   "execution_count": 24,
   "id": "0d2af305",
   "metadata": {},
   "outputs": [
    {
     "data": {
      "image/png": "[encoded data removed]",
      "text/plain": [
       "<Figure size 720x576 with 1 Axes>"
      ]
     },
     "metadata": {
      "needs_background": "light"
     },
     "output_type": "display_data"
    }
   ],
   "source": [
    "target_background = np.zeros(total_loss[0].shape[0])\n",
    "\n",
    "plt.figure(figsize=(10, 8))\n",
    "for i, label in enumerate(labels):\n",
    "    if i == 0:\n",
    "        continue  # background events\n",
    "\n",
    "    trueVal = np.concatenate(\n",
    "        (np.ones(total_loss[i].shape[0]), target_background)\n",
    "    )  # anomaly=1, bkg=0\n",
    "    predVal_loss = np.concatenate((total_loss[i], total_loss[0]))\n",
    "\n",
    "    fpr_loss, tpr_loss, threshold_loss = roc_curve(trueVal, predVal_loss)\n",
    "\n",
    "    auc_loss = auc(fpr_loss, tpr_loss)\n",
    "\n",
    "    plt.plot(\n",
    "        fpr_loss,\n",
    "        tpr_loss,\n",
    "        \"-\",\n",
    "        label=\"%s (auc = %.1f%%)\" % (label, auc_loss * 100.0),\n",
    "        linewidth=1.5,\n",
    "    )\n",
    "\n",
    "    plt.semilogx()\n",
    "    plt.semilogy()\n",
    "    plt.ylabel(\"True Positive Rate\")\n",
    "    plt.xlabel(\"False Positive Rate\")\n",
    "    plt.legend(loc=\"center right\")\n",
    "    plt.grid(True)\n",
    "    plt.tight_layout()\n",
    "plt.plot(np.linspace(0, 1), np.linspace(0, 1), \"--\", color=\"0.75\")\n",
    "plt.axvline(\n",
    "    0.00001, color=\"red\", linestyle=\"dashed\", linewidth=1\n",
    ")  # threshold value for measuring anomaly detection efficiency\n",
    "plt.title(\"ROC AE\")\n",
    "plt.show()"
   ]
  },
  {
   "cell_type": "code",
   "execution_count": null,
   "id": "6a388dc2",
   "metadata": {},
   "outputs": [],
   "source": []
  }
 ],
 "metadata": {
  "kernelspec": {
   "display_name": "Python 3 (ipykernel)",
   "language": "python",
   "name": "python3"
  },
  "language_info": {
   "codemirror_mode": {
    "name": "ipython",
    "version": 3
   },
   "file_extension": ".py",
   "mimetype": "text/x-python",
   "name": "python",
   "nbconvert_exporter": "python",
   "pygments_lexer": "ipython3",
   "version": "3.10.4"
  }
 },
 "nbformat": 4,
 "nbformat_minor": 5
}
