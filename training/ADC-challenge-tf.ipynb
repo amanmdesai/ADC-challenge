{
 "cells": [
  {
   "cell_type": "code",
   "execution_count": null,
   "id": "86967ed5",
   "metadata": {},
   "outputs": [],
   "source": [
    "import numpy as np\n",
    "import h5py\n",
    "import math\n",
    "import os\n",
    "import pathlib\n",
    "import matplotlib.pyplot as plt\n",
    "import matplotlib\n",
    "%matplotlib inline\n",
    "import tensorflow as tf\n",
    "import tensorflow.keras as keras\n",
    "from tensorflow.keras.models import Model\n",
    "from tensorflow.keras.layers import Input, Dense, BatchNormalization, Activation, Layer, ReLU, LeakyReLU\n",
    "from tensorflow.keras import backend as K\n",
    "from sklearn.metrics import roc_curve, auc\n",
    "os.environ[\"CUDA_VISIBLE_DEVICES\"] = \"-1\""
   ]
  },
  {
   "cell_type": "code",
   "execution_count": null,
   "id": "2e7c8a31",
   "metadata": {},
   "outputs": [],
   "source": [
    "folder = \"../processed-dataset/\"\n",
    "filename = \"BKG_dataset.h5\""
   ]
  },
  {
   "cell_type": "code",
   "execution_count": null,
   "id": "c118457a",
   "metadata": {},
   "outputs": [],
   "source": [
    "with h5py.File(folder+filename,'r') as file:\n",
    "    X_train  = np.array(file['X_train'])\n",
    "    X_val  = np.array(file['X_val'])    \n",
    "    X_test  = np.array(file['X_test'])\n",
    "X_train.shape[1]"
   ]
  },
  {
   "cell_type": "code",
   "execution_count": null,
   "id": "0cce492d",
   "metadata": {},
   "outputs": [],
   "source": [
    "\"\"\"\n",
    "input_shape = 57\n",
    "latent_dimension = 3\n",
    "num_nodes=[16,8]\n",
    "\n",
    "inputArray = keras.Input(shape=(57))\n",
    "x = Dense(num_nodes[0], use_bias=False)(inputArray)\n",
    "x = Activation('relu')(x)\n",
    "x = Dense(latent_dimension, use_bias=False)(x)\n",
    "encoder = Activation('relu')(x)\n",
    "\n",
    "#decoder\n",
    "x = Dense(num_nodes[0], use_bias=False)(encoder)\n",
    "x = Activation('relu')(x)\n",
    "decoder = Dense(input_shape)(x)\n",
    "\n",
    "#create autoencoder\n",
    "autoencoder = Model(inputs = inputArray, outputs=decoder)\n",
    "autoencoder.summary()\n",
    "\n",
    "tf.keras.utils.plot_model(\n",
    "    autoencoder,\n",
    "    to_file='result/model_arch.png',\n",
    "    show_shapes=True,\n",
    "    show_dtype=False,\n",
    "    show_layer_names=True,\n",
    "    rankdir='TB',\n",
    "    expand_nested=True,\n",
    "    dpi=96,\n",
    "    layer_range=None,\n",
    "    show_layer_activations=False\n",
    ")\n",
    "\"\"\""
   ]
  },
  {
   "cell_type": "code",
   "execution_count": null,
   "id": "e6a22b1f",
   "metadata": {},
   "outputs": [],
   "source": [
    "def Model():\n",
    "    nodes = [20,15]\n",
    "    latent_space_dim = 4\n",
    "    activation=\"LeakyReLU\"\n",
    "    \n",
    "    model = keras.Sequential([\n",
    "        #keras.Input(shape=(57,)),\n",
    "        keras.layers.Dense(nodes[0],use_bias=False,activation=activation,name='Dense_11'),\n",
    "        keras.layers.Dense(nodes[1],use_bias=False,activation=activation,name='Dense_12'),\n",
    "        keras.layers.Dense(latent_space_dim,use_bias=False,activation=activation,name='LatentSpace'),\n",
    "        keras.layers.Dense(nodes[1],use_bias=False,activation=activation,name='Dense_21'),\n",
    "        keras.layers.Dense(nodes[0],use_bias=False,activation=activation,name='Dense_22'),\n",
    "        keras.layers.Dense(X_train.shape[1],use_bias=False),\n",
    "    ])\n",
    "    model.compile(optimizer = keras.optimizers.Adam(),metrics=['accuracy','AUC'], loss='mse')\n",
    "    input_shape = X_train.shape  \n",
    "    model.build(input_shape) \n",
    "    model.summary()\n",
    "    return model"
   ]
  },
  {
   "cell_type": "code",
   "execution_count": null,
   "id": "d3b7d0ec",
   "metadata": {},
   "outputs": [],
   "source": [
    "EPOCHS = 10\n",
    "BATCH_SIZE = 1024\n",
    "autoencoder = Model()#inputs = inputArray, outputs=decoder"
   ]
  },
  {
   "cell_type": "code",
   "execution_count": null,
   "id": "7a07f133",
   "metadata": {},
   "outputs": [],
   "source": [
    "tf.keras.utils.plot_model(\n",
    "    autoencoder,\n",
    "    to_file='result/model_arch.png',\n",
    "    show_shapes=True,\n",
    "    show_dtype=False,\n",
    "    show_layer_names=True,\n",
    "    rankdir='TB',\n",
    "    expand_nested=True,\n",
    "    dpi=96,\n",
    "    layer_range=None,\n",
    "    show_layer_activations=False\n",
    ")"
   ]
  },
  {
   "cell_type": "code",
   "execution_count": null,
   "id": "a8d87a52",
   "metadata": {},
   "outputs": [],
   "source": [
    "callbacks = tf.keras.callbacks.EarlyStopping(\n",
    "    monitor=\"loss\",\n",
    "    min_delta=0.002,\n",
    "    patience=5,\n",
    "    verbose=1,\n",
    "    mode=\"min\",\n",
    "    baseline=None,\n",
    "    restore_best_weights=True,\n",
    ")"
   ]
  },
  {
   "cell_type": "code",
   "execution_count": null,
   "id": "3461f8fd",
   "metadata": {},
   "outputs": [],
   "source": [
    "history = autoencoder.fit(X_train, X_train, epochs = EPOCHS, batch_size = 1024,\n",
    "                  validation_data=(X_val, X_val),callbacks=callbacks)"
   ]
  },
  {
   "cell_type": "code",
   "execution_count": null,
   "id": "050a56e1",
   "metadata": {},
   "outputs": [],
   "source": [
    "plt.plot(autoencoder.history.history[\"loss\"], label=\"Training loss\")\n",
    "plt.plot(autoencoder.history.history[\"val_loss\"], label=\"Validation loss\")\n",
    "plt.legend()\n",
    "plt.savefig('result/loss.png')"
   ]
  },
  {
   "cell_type": "code",
   "execution_count": null,
   "id": "d7fe7ef1",
   "metadata": {},
   "outputs": [],
   "source": [
    "plt.plot(autoencoder.history.history[\"accuracy\"], label=\"Training accuracy\")\n",
    "plt.plot(autoencoder.history.history[\"val_accuracy\"], label=\"Validation accuracy\")\n",
    "plt.legend()\n",
    "plt.savefig('result/accuracy.png')"
   ]
  },
  {
   "cell_type": "code",
   "execution_count": null,
   "id": "08ea21c6",
   "metadata": {},
   "outputs": [],
   "source": [
    "def save_model(model_save_name, model):\n",
    "    with open(model_save_name + '.json', 'w') as json_file:\n",
    "        json_file.write(model.to_json())\n",
    "    model.save_weights(model_save_name + '.h5')"
   ]
  },
  {
   "cell_type": "code",
   "execution_count": null,
   "id": "54ec9c40",
   "metadata": {},
   "outputs": [],
   "source": [
    "def load_model(model_name, custom_objects=None):\n",
    "    name = model_name + '.json'\n",
    "    json_file = open(name, 'r')\n",
    "    loaded_model_json = json_file.read()\n",
    "    json_file.close()\n",
    "    model = model_from_json(loaded_model_json, custom_objects=custom_objects)\n",
    "    model.load_weights(model_name + '.h5')\n",
    "    return model"
   ]
  },
  {
   "cell_type": "code",
   "execution_count": null,
   "id": "d658acee",
   "metadata": {},
   "outputs": [],
   "source": [
    "model_name = 'model_ae_aman'\n",
    "model_directory = 'result/'\n",
    "save_model(model_directory+model_name, autoencoder)"
   ]
  },
  {
   "cell_type": "code",
   "execution_count": null,
   "id": "b51add64",
   "metadata": {},
   "outputs": [],
   "source": [
    "bkg_prediction = autoencoder.predict(X_test)"
   ]
  },
  {
   "cell_type": "code",
   "execution_count": null,
   "id": "29b8e257",
   "metadata": {},
   "outputs": [],
   "source": [
    "signal_labels = [\"Ato4l\", \"hChToTauNu\", \"hToTauTau\", \"leptoquark\"]\n",
    "\n",
    "# add correct path to signal files\n",
    "signals_file = [\n",
    "    \"Ato4l_lepFilter_13TeV_dataset.h5\",\n",
    "    \"hChToTauNu_13TeV_PU20_dataset.h5\",\n",
    "    \"hToTauTau_13TeV_PU20_dataset.h5\",\n",
    "    \"leptoquark_LOWMASS_lepFilter_13TeV_dataset.h5\",\n",
    "]"
   ]
  },
  {
   "cell_type": "code",
   "execution_count": null,
   "id": "d90a5c16",
   "metadata": {},
   "outputs": [],
   "source": [
    "signal_data = []\n",
    "for i, label in enumerate(signal_labels):\n",
    "    with h5py.File(folder+signals_file[i], 'r') as file:\n",
    "        test_data = np.array(file['Data'])\n",
    "    signal_data.append(test_data)"
   ]
  },
  {
   "cell_type": "code",
   "execution_count": null,
   "id": "4fe4a7a8",
   "metadata": {},
   "outputs": [],
   "source": [
    "signal_results = []\n",
    "\n",
    "for i, label in enumerate(signal_labels):\n",
    "    signal_prediction = autoencoder.predict(signal_data[i])\n",
    "    signal_results.append([label, signal_data[i], signal_prediction]) # save [label, true, prediction] for signal"
   ]
  },
  {
   "cell_type": "code",
   "execution_count": null,
   "id": "e283b26a",
   "metadata": {},
   "outputs": [],
   "source": [
    "def mse_loss(true, prediction):\n",
    "    # loss = tf.reduce_mean(tf.math.abs(1-tf.math.log(true - prediction)), axis=-1)\n",
    "    loss = tf.reduce_mean(tf.math.square(true - prediction), axis=-1)\n",
    "    # loss = - tf.reduce_mean(tf.math.log(1-(tf.math.square(true - prediction))),axis=-1)\n",
    "    return loss"
   ]
  },
  {
   "cell_type": "code",
   "execution_count": null,
   "id": "e7f7324e",
   "metadata": {},
   "outputs": [],
   "source": [
    "# compute loss value (true, predicted)\n",
    "total_loss = []\n",
    "total_loss.append(mse_loss(X_test, bkg_prediction.astype(np.float32)).numpy())\n",
    "for i, signal_X in enumerate(signal_data):\n",
    "    total_loss.append(mse_loss(signal_X, signal_results[i][2].astype(np.float32)).numpy())"
   ]
  },
  {
   "cell_type": "code",
   "execution_count": null,
   "id": "9dfdbee9",
   "metadata": {},
   "outputs": [],
   "source": [
    "bin_size=100\n",
    "\n",
    "plt.figure(figsize=(10,8))\n",
    "for i, label in enumerate(signal_labels):\n",
    "    plt.hist(total_loss[i], bins=bin_size, label=label, density = True, histtype='step', fill=False, linewidth=1.5)\n",
    "plt.yscale('log')\n",
    "plt.xlabel(\"Autoencoder Loss\")\n",
    "plt.ylabel(\"Probability (a.u.)\")\n",
    "plt.title('MSE loss')\n",
    "plt.legend(loc='best')\n",
    "plt.savefig('result/mse_loss.png')"
   ]
  },
  {
   "cell_type": "code",
   "execution_count": null,
   "id": "70688264",
   "metadata": {},
   "outputs": [],
   "source": [
    "labels = np.concatenate([['Background'], np.array(signal_labels)])"
   ]
  },
  {
   "cell_type": "code",
   "execution_count": null,
   "id": "321980bc",
   "metadata": {},
   "outputs": [],
   "source": [
    "target_background = np.zeros(total_loss[0].shape[0])\n",
    "\n",
    "plt.figure(figsize=(10,8))\n",
    "for i, label in enumerate(labels):\n",
    "    if i == 0: continue # background events\n",
    "    \n",
    "    trueVal = np.concatenate((np.ones(total_loss[i].shape[0]), target_background)) # anomaly=1, bkg=0\n",
    "    predVal_loss = np.concatenate((total_loss[i], total_loss[0]))\n",
    "\n",
    "    fpr_loss, tpr_loss, threshold_loss = roc_curve(trueVal, predVal_loss)\n",
    "\n",
    "    auc_loss = auc(fpr_loss, tpr_loss)\n",
    "    \n",
    "    plt.plot(fpr_loss, tpr_loss, \"-\", label='%s (auc = %.1f%%)'%(label,auc_loss*100.), linewidth=1.5)\n",
    "    \n",
    "    plt.semilogx()\n",
    "    plt.semilogy()\n",
    "    plt.ylabel(\"True Positive Rate\")\n",
    "    plt.xlabel(\"False Positive Rate\")\n",
    "    plt.legend(loc='center right')\n",
    "    plt.grid(True)\n",
    "    plt.tight_layout()\n",
    "plt.plot(np.linspace(0, 1),np.linspace(0, 1), '--', color='0.75')\n",
    "plt.axvline(0.00001, color='red', linestyle='dashed', linewidth=1) # threshold value for measuring anomaly detection efficiency\n",
    "plt.title(\"ROC AE\")\n",
    "plt.savefig('result/roc.png')"
   ]
  },
  {
   "cell_type": "code",
   "execution_count": null,
   "id": "eeac7ab5",
   "metadata": {},
   "outputs": [],
   "source": []
  },
  {
   "cell_type": "code",
   "execution_count": null,
   "id": "ac8a7046",
   "metadata": {},
   "outputs": [],
   "source": []
  }
 ],
 "metadata": {
  "kernelspec": {
   "display_name": "Python 3 (ipykernel)",
   "language": "python",
   "name": "python3"
  },
  "language_info": {
   "codemirror_mode": {
    "name": "ipython",
    "version": 3
   },
   "file_extension": ".py",
   "mimetype": "text/x-python",
   "name": "python",
   "nbconvert_exporter": "python",
   "pygments_lexer": "ipython3",
   "version": "3.10.6"
  }
 },
 "nbformat": 4,
 "nbformat_minor": 5
}
