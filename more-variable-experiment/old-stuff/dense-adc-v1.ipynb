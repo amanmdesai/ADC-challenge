{
 "cells": [
  {
   "cell_type": "code",
   "execution_count": null,
   "id": "a94c4fd8",
   "metadata": {},
   "outputs": [],
   "source": [
    "import numpy as np\n",
    "import h5py\n",
    "import pandas as pd\n",
    "import math\n",
    "import os\n",
    "import pathlib\n",
    "import matplotlib.pyplot as plt\n",
    "import matplotlib\n",
    "\n",
    "%matplotlib inline\n",
    "import tensorflow as tf\n",
    "import tensorflow.keras as keras\n",
    "from tensorflow.keras.models import Model\n",
    "from tensorflow.keras.layers import (\n",
    "    Input,\n",
    "    Dense,\n",
    "    BatchNormalization,\n",
    "    Activation,\n",
    "    Layer,\n",
    "    ReLU,\n",
    "    LeakyReLU,\n",
    ")\n",
    "from tensorflow.keras import backend as K"
   ]
  },
  {
   "cell_type": "code",
   "execution_count": null,
   "id": "6deed681",
   "metadata": {},
   "outputs": [],
   "source": [
    "# To add SM files\n",
    "filename = \"processed-dataset/BKG_dataset.h5\""
   ]
  },
  {
   "cell_type": "code",
   "execution_count": null,
   "id": "df684bb9",
   "metadata": {},
   "outputs": [],
   "source": [
    "# make sure input data has correct input shape - background training data\n",
    "with h5py.File(filename, \"r\") as file:\n",
    "    X_train = np.array(file[\"X_train\"])\n",
    "    X_test = np.array(file[\"X_test\"])\n",
    "    X_val = np.array(file[\"X_val\"])"
   ]
  },
  {
   "cell_type": "code",
   "execution_count": null,
   "id": "a6c6198f",
   "metadata": {},
   "outputs": [],
   "source": [
    "X_train"
   ]
  },
  {
   "cell_type": "code",
   "execution_count": null,
   "id": "c2c3d7dc",
   "metadata": {},
   "outputs": [],
   "source": []
  }
 ],
 "metadata": {
  "kernelspec": {
   "display_name": "Python 3 (ipykernel)",
   "language": "python",
   "name": "python3"
  },
  "language_info": {
   "codemirror_mode": {
    "name": "ipython",
    "version": 3
   },
   "file_extension": ".py",
   "mimetype": "text/x-python",
   "name": "python",
   "nbconvert_exporter": "python",
   "pygments_lexer": "ipython3",
   "version": "3.10.4"
  }
 },
 "nbformat": 4,
 "nbformat_minor": 5
}
